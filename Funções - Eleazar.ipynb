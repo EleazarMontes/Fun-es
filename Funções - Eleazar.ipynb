{
 "cells": [
  {
   "cell_type": "code",
   "execution_count": 11,
   "metadata": {},
   "outputs": [
    {
     "data": {
      "text/plain": [
       "range(1, 5)"
      ]
     },
     "execution_count": 11,
     "metadata": {},
     "output_type": "execute_result"
    }
   ],
   "source": [
    "#Funções\n",
    "range (1,5)"
   ]
  },
  {
   "cell_type": "code",
   "execution_count": 9,
   "metadata": {},
   "outputs": [],
   "source": [
    "def funcaoLeitura():\n",
    "    for num in [1,2,3,4,5]:\n",
    "        print(\"Número\", num)\n"
   ]
  },
  {
   "cell_type": "code",
   "execution_count": 12,
   "metadata": {},
   "outputs": [
    {
     "name": "stdout",
     "output_type": "stream",
     "text": [
      "Número 1\n",
      "Número 2\n",
      "Número 3\n",
      "Número 4\n",
      "Número 5\n"
     ]
    }
   ],
   "source": [
    "funcaoLeitura()"
   ]
  },
  {
   "cell_type": "code",
   "execution_count": 16,
   "metadata": {},
   "outputs": [
    {
     "name": "stdout",
     "output_type": "stream",
     "text": [
      "o primeiro número é:  10\n",
      "o segundo número é:  25\n",
      "A soma número é:  35\n",
      "o primeiro número é:  11\n",
      "o segundo número é:  5\n",
      "A soma número é:  16\n"
     ]
    }
   ],
   "source": [
    "#Função para somar dois números\n",
    "def addNum(n1, n2):\n",
    "    print(\"o primeiro número é: \", n1)\n",
    "    print(\"o segundo número é: \", n2)\n",
    "    print(\"A soma número é: \", n1+n2)\n",
    "\n",
    "addNum(10,25)\n",
    "addNum(11,5)"
   ]
  },
  {
   "cell_type": "code",
   "execution_count": 20,
   "metadata": {},
   "outputs": [
    {
     "name": "stdout",
     "output_type": "stream",
     "text": [
      "Variável da função Multiplicada:  30\n",
      "10\n"
     ]
    }
   ],
   "source": [
    "varGlobal = 10 #essa é uma variável global\n",
    "def multiplica (num1, num2):\n",
    "    varLocal = num1* num2 # essa é uma variável local\n",
    "    print(\"Variável da função Multiplicada: \", varLocal)\n",
    "    #print(varLocal) \n",
    "multiplica(5,6)\n",
    "print(varGlobal)"
   ]
  },
  {
   "cell_type": "code",
   "execution_count": 24,
   "metadata": {},
   "outputs": [
    {
     "name": "stdout",
     "output_type": "stream",
     "text": [
      "Parâmetro 0 Luquinhas\n",
      "Parâmetro 1 Madá\n",
      "Parâmetro 2 Giggio\n"
     ]
    }
   ],
   "source": [
    "#Quando não sabemos a quantidade de parâmetros basta\n",
    "def variosParametros(*parametros):\n",
    "    for n, item in enumerate(parametros):\n",
    "        print(\"Parâmetro\", n, item)\n",
    "\n",
    "    return\n",
    "    \n",
    "variosParametros('Luquinhas', 'Madá', 'Giggio')\n"
   ]
  },
  {
   "cell_type": "code",
   "execution_count": 30,
   "metadata": {},
   "outputs": [],
   "source": [
    "def soma(n1, n2):\n",
    "    return n1+n2\n",
    "\n",
    "def subtrai(n1, n2):\n",
    "    return n1-n2\n",
    "\n",
    "def multiplica(n1, n2):\n",
    "    return n1*n2\n",
    "\n",
    "def divide(n1, n2):\n",
    "    return n1/n2"
   ]
  },
  {
   "cell_type": "code",
   "execution_count": 34,
   "metadata": {},
   "outputs": [
    {
     "name": "stdout",
     "output_type": "stream",
     "text": [
      "+===================+\n",
      "| MENU DE OPERAÇÕES |\n",
      "| 1 - somar         |\n",
      "| 2 - subtrair      |\n",
      "| 3 - multiplicar   |\n",
      "| 4 - dividir       |\n",
      "| 0 - sair          |\n",
      "+===================+\n",
      "o resultado da soma é:  8\n",
      "+===================+\n",
      "| MENU DE OPERAÇÕES |\n",
      "| 1 - somar         |\n",
      "| 2 - subtrair      |\n",
      "| 3 - multiplicar   |\n",
      "| 4 - dividir       |\n",
      "| 0 - sair          |\n",
      "+===================+\n",
      "o resultado da divisão é:  5.0\n",
      "+===================+\n",
      "| MENU DE OPERAÇÕES |\n",
      "| 1 - somar         |\n",
      "| 2 - subtrair      |\n",
      "| 3 - multiplicar   |\n",
      "| 4 - dividir       |\n",
      "| 0 - sair          |\n",
      "+===================+\n"
     ]
    }
   ],
   "source": [
    "while True:\n",
    "    print(\"+===================+\")\n",
    "    print(\"| MENU DE OPERAÇÕES |\")\n",
    "    print(\"| 1 - somar         |\")\n",
    "    print(\"| 2 - subtrair      |\")\n",
    "    print(\"| 3 - multiplicar   |\")\n",
    "    print(\"| 4 - dividir       |\")\n",
    "    print(\"| 0 - sair          |\")\n",
    "    print(\"+===================+\")\n",
    "\n",
    "    op = int(input())\n",
    "    if op==0:\n",
    "        break\n",
    "\n",
    "    n1 = int(input(\"Primeiro número: \"))\n",
    "    n2 = int(input(\"segundo número: \"))\n",
    "\n",
    "    if op==1:\n",
    "        print(\"o resultado da soma é: \", soma(n1, n2))\n",
    "    elif op==2:\n",
    "        print(\"o resultado da subtração é: \", subtrai(n1,n2))\n",
    "    elif op==3:\n",
    "        print(\"o resultado da multiplicação é: \", multiplica(n1,n2))\n",
    "    elif op==4:\n",
    "        print(\"o resultado da divisão é: \", divide(n1,n2))\n",
    "        "
   ]
  }
 ],
 "metadata": {
  "kernelspec": {
   "display_name": "Python 3",
   "language": "python",
   "name": "python3"
  },
  "language_info": {
   "codemirror_mode": {
    "name": "ipython",
    "version": 3
   },
   "file_extension": ".py",
   "mimetype": "text/x-python",
   "name": "python",
   "nbconvert_exporter": "python",
   "pygments_lexer": "ipython3",
   "version": "3.11.9"
  }
 },
 "nbformat": 4,
 "nbformat_minor": 2
}
